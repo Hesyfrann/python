{
  "nbformat": 4,
  "nbformat_minor": 0,
  "metadata": {
    "colab": {
      "provenance": []
    },
    "kernelspec": {
      "name": "python3",
      "display_name": "Python 3"
    },
    "language_info": {
      "name": "python"
    }
  },
  "cells": [
    {
      "cell_type": "code",
      "execution_count": null,
      "metadata": {
        "colab": {
          "base_uri": "https://localhost:8080/"
        },
        "id": "ySMHs_mcgaYs",
        "outputId": "1dbe382b-eb58-46f0-a4e3-d7523365707d"
      },
      "outputs": [
        {
          "output_type": "stream",
          "name": "stdout",
          "text": [
            "olá mundo\n",
            "<class 'str'>\n"
          ]
        }
      ],
      "source": [
        "#ETE CICERO DIAS\n",
        "#DOCENTE:\n",
        "#ESTUDANTE: ...\n",
        "#TIPOS PRIMITIVOS DE DADOS EM  PYTHON\n",
        "\n",
        "print('olá mundo')\n",
        "\n",
        "c = 'Cloves'\n",
        "print(type(c))\n",
        "\n"
      ]
    }
  ]
}