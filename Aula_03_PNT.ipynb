{
  "nbformat": 4,
  "nbformat_minor": 0,
  "metadata": {
    "colab": {
      "provenance": [],
      "authorship_tag": "ABX9TyMbrkbpUUN5gTPkA3LaGwdp",
      "include_colab_link": true
    },
    "kernelspec": {
      "name": "python3",
      "display_name": "Python 3"
    },
    "language_info": {
      "name": "python"
    }
  },
  "cells": [
    {
      "cell_type": "markdown",
      "metadata": {
        "id": "view-in-github",
        "colab_type": "text"
      },
      "source": [
        "<a href=\"https://colab.research.google.com/github/Hesyfrann/python/blob/main/Aula_03_PNT.ipynb\" target=\"_parent\"><img src=\"https://colab.research.google.com/assets/colab-badge.svg\" alt=\"Open In Colab\"/></a>"
      ]
    },
    {
      "cell_type": "code",
      "execution_count": null,
      "metadata": {
        "colab": {
          "base_uri": "https://localhost:8080/"
        },
        "id": "ySMHs_mcgaYs",
        "outputId": "1dbe382b-eb58-46f0-a4e3-d7523365707d"
      },
      "outputs": [
        {
          "output_type": "stream",
          "name": "stdout",
          "text": [
            "olá mundo\n",
            "<class 'str'>\n"
          ]
        }
      ],
      "source": [
        "#ETE CICERO DIAS\n",
        "#DOCENTE:\n",
        "#ESTUDANTE: ...\n",
        "#TIPOS PRIMITIVOS DE DADOS EM  PYTHON\n",
        "\n",
        "print('olá mundo')\n",
        "\n",
        "c = 'Cloves'\n",
        "print(type(c))\n",
        "\n"
      ]
    }
  ]
}